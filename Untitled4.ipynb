{
  "cells": [
    {
      "cell_type": "code",
      "execution_count": 2,
      "metadata": {
        "id": "trnnDdmNFm0W"
      },
      "outputs": [],
      "source": [
        "import psutil\n",
        "import logging\n",
        "from datetime import datetime"
      ]
    },
    {
      "cell_type": "code",
      "execution_count": 3,
      "metadata": {
        "id": "Ffj9ZaTEFqNs"
      },
      "outputs": [],
      "source": [
        "CPU_THRESHOLD = 80.0  # in percentage\n",
        "MEMORY_THRESHOLD = 80.0  # in percentage\n",
        "DISK_THRESHOLD = 80.0  # in percentage\n",
        "LOG_FILE = '/path/to/system_health_log.log'\n",
        "CHECK_INTERVAL = 60  # in seconds"
      ]
    },
    {
      "cell_type": "code",
      "execution_count": 4,
      "metadata": {
        "id": "0S9ohRetFxo7"
      },
      "outputs": [],
      "source": [
        "logging.basicConfig(filename=LOG_FILE, level=logging.INFO)\n",
        "\n",
        "def check_cpu_usage(threshold):\n",
        "    usage = psutil.cpu_percent(interval=1)\n",
        "    if usage > threshold:\n",
        "        logging.warning(f\"High CPU usage detected: {usage}%\")\n",
        "        return True\n",
        "    return False\n",
        "\n",
        "def check_memory_usage(threshold):\n",
        "    memory = psutil.virtual_memory()\n",
        "    usage = memory.percent\n",
        "    if usage > threshold:\n",
        "        logging.warning(f\"High memory usage detected: {usage}%\")\n",
        "        return True\n",
        "    return False\n"
      ]
    },
    {
      "cell_type": "code",
      "execution_count": 5,
      "metadata": {
        "id": "LRp4EKrHFzHL"
      },
      "outputs": [],
      "source": [
        "def check_disk_usage(threshold):\n",
        "    disk = psutil.disk_usage('/')\n",
        "    usage = disk.percent\n",
        "    if usage > threshold:\n",
        "        logging.warning(f\"Low disk space detected: {usage}% used\")\n",
        "        return True\n",
        "    return False\n",
        "\n",
        "def check_running_processes():\n",
        "    process_count = len(psutil.pids())\n",
        "    logging.info(f\"Number of running processes: {process_count}\")\n",
        "    return process_count\n"
      ]
    },
    {
      "cell_type": "code",
      "execution_count": null,
      "metadata": {
        "id": "YT_kUmysF52f"
      },
      "outputs": [],
      "source": [
        "def log_system_health():\n",
        "    timestamp = datetime.now().strftime('%Y-%m-%d %H:%M:%S')\n",
        "    cpu_alert = check_cpu_usage(CPU_THRESHOLD)\n",
        "    memory_alert = check_memory_usage(MEMORY_THRESHOLD)\n",
        "    disk_alert = check_disk_usage(DISK_THRESHOLD)\n",
        "    process_count = check_running_processes()\n",
        "\n",
        "    if cpu_alert or memory_alert or disk_alert:\n",
        "        logging.warning(f\"System health check at {timestamp} - Issues detected\")\n",
        "    else:\n",
        "        logging.info(f\"System health check at {timestamp} - All metrics within thresholds\")\n",
        "\n",
        "if __name__ == \"__main__\":\n",
        "    import time\n",
        "    while True:\n",
        "        log_system_health()\n",
        "        time.sleep(CHECK_INTERVAL)"
      ]
    }
  ],
  "metadata": {
    "colab": {
      "provenance": []
    },
    "kernelspec": {
      "display_name": "Python 3",
      "name": "python3"
    },
    "language_info": {
      "name": "python"
    }
  },
  "nbformat": 4,
  "nbformat_minor": 0
}
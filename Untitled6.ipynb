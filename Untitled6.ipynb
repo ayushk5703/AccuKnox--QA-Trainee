{
  "nbformat": 4,
  "nbformat_minor": 0,
  "metadata": {
    "colab": {
      "provenance": []
    },
    "kernelspec": {
      "name": "python3",
      "display_name": "Python 3"
    },
    "language_info": {
      "name": "python"
    }
  },
  "cells": [
    {
      "cell_type": "code",
      "execution_count": 1,
      "metadata": {
        "id": "mmTxNZfaPbYd"
      },
      "outputs": [],
      "source": [
        "import re\n",
        "from collections import Counter"
      ]
    },
    {
      "cell_type": "code",
      "source": [
        "def analyze_log(log_file):\n",
        "    # Regular expression pattern for parsing Apache/Nginx log file\n",
        "    log_pattern = r'^(\\S+) (\\S+) (\\S+) \\[([^\\]]+)\\] \"(\\S+) (\\S+) (\\S+)\" (\\d{3}) (\\d+|-)$'\n",
        "\n",
        "    # Initialize counters\n",
        "    total_requests = 0\n",
        "    status_count = Counter()\n",
        "    page_requests = Counter()\n",
        "    ip_requests = Counter()\n",
        "\n",
        "    # Read through the log file\n",
        "    with open(log_file, 'r') as f:\n",
        "        for line in f:\n",
        "            match = re.match(log_pattern, line)\n",
        "            if match:\n",
        "                ip_address = match.group(1)\n",
        "                method = match.group(5)\n",
        "                status_code = match.group(8)\n",
        "                url = match.group(6)\n",
        "\n",
        "                total_requests += 1\n",
        "                status_count[status_code] += 1\n",
        "                page_requests[url] += 1\n",
        "                ip_requests[ip_address] += 1\n",
        "\n",
        "    # Print summarized report\n",
        "    print(f\"Total requests: {total_requests}\\n\")\n",
        "\n",
        "    print(\"Status code counts:\")\n",
        "    for status_code, count in status_count.most_common():\n",
        "        print(f\"{status_code}: {count}\")\n",
        "    print()\n",
        "\n",
        "    print(\"Top requested pages:\")\n",
        "    for url, count in page_requests.most_common(10):\n",
        "        print(f\"{url}: {count}\")\n",
        "    print()\n",
        "\n",
        "    print(\"Top IP addresses making requests:\")\n",
        "    for ip, count in ip_requests.most_common(10):\n",
        "        print(f\"{ip}: {count}\")\n",
        "\n",
        "# Example usage\n",
        "if __name__ == \"__main__\":\n",
        "    log_file = 'access.log'  # Replace with your actual log file path\n",
        "    analyze_log(log_file)"
      ],
      "metadata": {
        "colab": {
          "base_uri": "https://localhost:8080/",
          "height": 297
        },
        "id": "f97e8rVBP63N",
        "outputId": "7ae55d3e-4d49-4c62-e67d-52efd7862cb4"
      },
      "execution_count": 2,
      "outputs": [
        {
          "output_type": "error",
          "ename": "FileNotFoundError",
          "evalue": "[Errno 2] No such file or directory: 'access.log'",
          "traceback": [
            "\u001b[0;31m---------------------------------------------------------------------------\u001b[0m",
            "\u001b[0;31mFileNotFoundError\u001b[0m                         Traceback (most recent call last)",
            "\u001b[0;32m<ipython-input-2-6bdd651dfdb2>\u001b[0m in \u001b[0;36m<cell line: 44>\u001b[0;34m()\u001b[0m\n\u001b[1;32m     44\u001b[0m \u001b[0;32mif\u001b[0m \u001b[0m__name__\u001b[0m \u001b[0;34m==\u001b[0m \u001b[0;34m\"__main__\"\u001b[0m\u001b[0;34m:\u001b[0m\u001b[0;34m\u001b[0m\u001b[0;34m\u001b[0m\u001b[0m\n\u001b[1;32m     45\u001b[0m     \u001b[0mlog_file\u001b[0m \u001b[0;34m=\u001b[0m \u001b[0;34m'access.log'\u001b[0m  \u001b[0;31m# Replace with your actual log file path\u001b[0m\u001b[0;34m\u001b[0m\u001b[0;34m\u001b[0m\u001b[0m\n\u001b[0;32m---> 46\u001b[0;31m     \u001b[0manalyze_log\u001b[0m\u001b[0;34m(\u001b[0m\u001b[0mlog_file\u001b[0m\u001b[0;34m)\u001b[0m\u001b[0;34m\u001b[0m\u001b[0;34m\u001b[0m\u001b[0m\n\u001b[0m",
            "\u001b[0;32m<ipython-input-2-6bdd651dfdb2>\u001b[0m in \u001b[0;36manalyze_log\u001b[0;34m(log_file)\u001b[0m\n\u001b[1;32m     10\u001b[0m \u001b[0;34m\u001b[0m\u001b[0m\n\u001b[1;32m     11\u001b[0m     \u001b[0;31m# Read through the log file\u001b[0m\u001b[0;34m\u001b[0m\u001b[0;34m\u001b[0m\u001b[0m\n\u001b[0;32m---> 12\u001b[0;31m     \u001b[0;32mwith\u001b[0m \u001b[0mopen\u001b[0m\u001b[0;34m(\u001b[0m\u001b[0mlog_file\u001b[0m\u001b[0;34m,\u001b[0m \u001b[0;34m'r'\u001b[0m\u001b[0;34m)\u001b[0m \u001b[0;32mas\u001b[0m \u001b[0mf\u001b[0m\u001b[0;34m:\u001b[0m\u001b[0;34m\u001b[0m\u001b[0;34m\u001b[0m\u001b[0m\n\u001b[0m\u001b[1;32m     13\u001b[0m         \u001b[0;32mfor\u001b[0m \u001b[0mline\u001b[0m \u001b[0;32min\u001b[0m \u001b[0mf\u001b[0m\u001b[0;34m:\u001b[0m\u001b[0;34m\u001b[0m\u001b[0;34m\u001b[0m\u001b[0m\n\u001b[1;32m     14\u001b[0m             \u001b[0mmatch\u001b[0m \u001b[0;34m=\u001b[0m \u001b[0mre\u001b[0m\u001b[0;34m.\u001b[0m\u001b[0mmatch\u001b[0m\u001b[0;34m(\u001b[0m\u001b[0mlog_pattern\u001b[0m\u001b[0;34m,\u001b[0m \u001b[0mline\u001b[0m\u001b[0;34m)\u001b[0m\u001b[0;34m\u001b[0m\u001b[0;34m\u001b[0m\u001b[0m\n",
            "\u001b[0;31mFileNotFoundError\u001b[0m: [Errno 2] No such file or directory: 'access.log'"
          ]
        }
      ]
    }
  ]
}